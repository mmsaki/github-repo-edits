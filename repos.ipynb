{
 "cells": [
  {
   "cell_type": "code",
   "execution_count": 37,
   "metadata": {},
   "outputs": [],
   "source": [
    "from pathlib import Path\n",
    "import json\n",
    "from datetime import datetime\n",
    "import pytz"
   ]
  },
  {
   "cell_type": "code",
   "execution_count": 50,
   "metadata": {},
   "outputs": [],
   "source": [
    "# 1. Download your repos repos\n",
    "# !gh repo list --limit 200 --json \"name,openGraphImageUrl,owner,pushedAt,createdAt,url,visibility,isPrivate,isFork,watchers,stargazerCount,isEmpty,forkCount\" > repos.json\n",
    "# 2. Other options for `--json`\n",
    "# codeOfConduct,contactLinks,createdAt,defaultBranchRef,deleteBranchOnMerge,description,diskUsage,forkCount,fundingLinks,hasDiscussionsEnabled,hasIssuesEnabled,hasProjectsEnabled,hasWikiEnabled,homepageUrl,id,isArchived,isBlankIssuesEnabled,isEmpty,isFork,isInOrganization,isMirror,isPrivate,isSecurityPolicyEnabled,isTemplate,isUserConfigurationRepository,issueTemplates,issues,labels,languages,latestRelease,licenseInfo,mentionableUsers,mergeCommitAllowed,milestones,mirrorUrl,name,nameWithOwner,openGraphImageUrl,owner,parent,primaryLanguage,projects,pullRequestTemplates,pullRequests,pushedAt,rebaseMergeAllowed,repositoryTopics,securityPolicyUrl,squashMergeAllowed,sshUrl,stargazerCount,templateRepository,updatedAt,url,usesCustomOpenGraphImage,viewerCanAdminister,viewerDefaultCommitEmail,viewerDefaultMergeMethod,viewerHasStarred,viewerPermission,viewerPossibleCommitEmails,viewerSubscription,visibility,watchers\n",
    "\n",
    "path = Path(\"repos.json\")"
   ]
  },
  {
   "cell_type": "code",
   "execution_count": 51,
   "metadata": {},
   "outputs": [],
   "source": [
    "with open(path) as f:\n",
    "  repos = json.load(f)\n"
   ]
  },
  {
   "cell_type": "code",
   "execution_count": 52,
   "metadata": {},
   "outputs": [
    {
     "name": "stdout",
     "output_type": "stream",
     "text": [
      "!gh repo edit mmsaki/eth-full-node --visibility private\n",
      "!gh repo edit mmsaki/mina-tutorials --visibility private\n",
      "!gh repo edit mmsaki/cuddly-robot --visibility private\n"
     ]
    }
   ],
   "source": [
    "# i = 0\n",
    "for repo in repos:\n",
    "  utc_time = datetime.strptime(repo['createdAt'], \"%Y-%m-%dT%H:%M:%SZ\")\n",
    "  # Make the datetime timezone-aware (UTC)\n",
    "  # if utc_time > datetime.strptime(\"2022-09-02\", \"%Y-%m-%d\") and not repo[\"isPrivate\"] and repo[\"stargazerCount\"] == 0:\n",
    "  if repo[\"isEmpty\"]:\n",
    "    # print(utc_time, repo['fullName'])\n",
    "    print(f\"!gh repo edit mmsaki/{repo['name']} --visibility private\")\n",
    "    # !gh repo edit mmsaki/{repo['name']} --visibility private"
   ]
  }
 ],
 "metadata": {
  "kernelspec": {
   "display_name": "venv",
   "language": "python",
   "name": "python3"
  },
  "language_info": {
   "codemirror_mode": {
    "name": "ipython",
    "version": 3
   },
   "file_extension": ".py",
   "mimetype": "text/x-python",
   "name": "python",
   "nbconvert_exporter": "python",
   "pygments_lexer": "ipython3",
   "version": "3.12.7"
  }
 },
 "nbformat": 4,
 "nbformat_minor": 2
}
